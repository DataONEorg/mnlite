{
 "cells": [
  {
   "cell_type": "code",
   "execution_count": null,
   "metadata": {},
   "outputs": [],
   "source": [
    "import sonormal\n",
    "import soscan\n",
    "import json\n",
    "\n",
    "context = sonormal.SO_DATASET_FRAME\n",
    "datasets = 1\n",
    "sitemap = True\n",
    "until_return = False\n",
    "url = \"\"\n",
    "\n",
    "def get_jsonld(url, sitemap=False, datasets=1, until_return=False):\n",
    "    '''\n",
    "    Get JSON-LD document from URL or sitemap.\n",
    "    '''\n",
    "    "
   ]
  },
  {
   "cell_type": "code",
   "execution_count": null,
   "metadata": {},
   "outputs": [],
   "source": [
    "jld = get_jsonld(url=url, sitemap=sitemap, datasets=datasets)"
   ]
  }
 ],
 "metadata": {
  "language_info": {
   "name": "python"
  }
 },
 "nbformat": 4,
 "nbformat_minor": 2
}
