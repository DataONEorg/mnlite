{
 "cells": [
  {
   "cell_type": "code",
   "execution_count": 1,
   "metadata": {},
   "outputs": [],
   "source": [
    "import opersist as op\n",
    "from datetime import datetime"
   ]
  },
  {
   "cell_type": "code",
   "execution_count": 2,
   "metadata": {},
   "outputs": [],
   "source": [
    "# Assuming OPersist is already imported and the user defines a path variable\n",
    "path = \"/home/mnlite/WORK/mnlite/instance/nodes/mnTestUSAP\"\n",
    "# Get the OPersist instance\n",
    "opi = op.OPersist(path)\n",
    "opi.open()\n",
    "# Get the list of objects\n",
    "objects_list = opi.things()"
   ]
  },
  {
   "cell_type": "code",
   "execution_count": null,
   "metadata": {},
   "outputs": [
    {
     "name": "stdout",
     "output_type": "stream",
     "text": [
      "3188 total objects\n",
      "3188 objects modified after 2024-09-30 00:00:00\n"
     ]
    }
   ],
   "source": [
    "o = 0\n",
    "d = datetime(2024, 9, 30)\n",
    "print(f'{objects_list.count()} total objects')\n",
    "for obj in objects_list:\n",
    "    if obj.date_modified > d:\n",
    "        o += 1\n",
    "\n",
    "print(f'{o} objects modified after {d}')"
   ]
  },
  {
   "cell_type": "code",
   "execution_count": null,
   "metadata": {},
   "outputs": [],
   "source": [
    "opi.open()\n",
    "objects_list = opi.things()\n"
   ]
  },
  {
   "cell_type": "markdown",
   "metadata": {},
   "source": [
    "Script to reset moddates if they're older than a specified date"
   ]
  },
  {
   "cell_type": "code",
   "execution_count": null,
   "metadata": {},
   "outputs": [],
   "source": [
    "import opersist as op\n",
    "from datetime import datetime, timedelta\n",
    "\n",
    "# changeable values\n",
    "path = \"/home/mnlite/WORK/mnlite/instance/nodes/DRYAD\"\n",
    "d = datetime(2024, 9, 30)\n",
    "num = 2000\n",
    "\n",
    "# counters\n",
    "n, o = 0, 0\n",
    "# Get the OPersist instance\n",
    "opi = op.OPersist(path)\n",
    "opi.open()\n",
    "# Get the list of objects\n",
    "objects_list = opi.things()\n",
    "c = objects_list.count()\n",
    "print(f'{c} total objects')\n",
    "for obj in objects_list:\n",
    "    # reset the date_modified for each object if it is older than 2024-09-30\n",
    "    if obj.date_modified < d:\n",
    "        if n < num:\n",
    "            obj.date_modified = op.utils.dtnow() + timedelta(seconds=n)\n",
    "            n += 1\n",
    "        else:\n",
    "            o += 1\n",
    "\n",
    "opi.commit()\n",
    "opi.close()\n",
    "print(f'{n} date_modified fields touched')\n",
    "print(f'{o} ({round((o/c)*100,2)}%) objects still modified before {d.strftime(\"%Y-%m-%d\")}')\n"
   ]
  }
 ],
 "metadata": {
  "kernelspec": {
   "display_name": "mnlite",
   "language": "python",
   "name": "python3"
  },
  "language_info": {
   "codemirror_mode": {
    "name": "ipython",
    "version": 3
   },
   "file_extension": ".py",
   "mimetype": "text/x-python",
   "name": "python",
   "nbconvert_exporter": "python",
   "pygments_lexer": "ipython3",
   "version": "3.8.11"
  }
 },
 "nbformat": 4,
 "nbformat_minor": 2
}
